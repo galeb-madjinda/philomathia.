{
  "nbformat": 4,
  "nbformat_minor": 0,
  "metadata": {
    "colab": {
      "provenance": [],
      "collapsed_sections": [
        "7FRhuAFaa3Yy"
      ]
    },
    "kernelspec": {
      "name": "python3",
      "display_name": "Python 3"
    },
    "language_info": {
      "name": "python"
    }
  },
  "cells": [
    {
      "cell_type": "markdown",
      "source": [
        "# Philomathia\n"
      ],
      "metadata": {
        "id": "mYr0YGpbJpWY"
      }
    },
    {
      "cell_type": "markdown",
      "source": [
        "Sommaire :\n",
        "* Algèbre linéaire\n",
        "* Probabilités et Statistique\n",
        "* Calcul de dérivée\n",
        "* Aller plus loin..."
      ],
      "metadata": {
        "id": "DDnH8RevvQ2-"
      }
    },
    {
      "cell_type": "markdown",
      "source": [
        "**Pourquoi Python pour les mathématiques ?**\n",
        "\n",
        "Le langage Python est un langage généraliste, offrant des bibliothèques puissantes en calcul numérique (NumPy, SciPy, SymPy, Matplotlib,...), facilitant les opérations mathématiques plus ou moins complexes, l'analyse statistique et la visualisation des données. Son interactivité via des environnements comme Jupyter Notebook favorise un processus de développement itératif.\n",
        "La communauté active de développeurs et les nombreuses ressources en ligne font de Python un outil incontournable."
      ],
      "metadata": {
        "id": "mqYa4P1AYLF8"
      }
    },
    {
      "cell_type": "markdown",
      "source": [
        "**Pourquoi ce projet ?**\n",
        "\n",
        "Dans ce projet, nous allons aborder des notions de mathématiques basiques nécessaires à la prochaine Unit, le Machine Learning. Pas de panique, nous n'allons rien inventer, nous allons simplement utiliser Python afin de manipuler des vecteurs, des matrices, des probabilités, des graphes faire des simulations et d'autres calculs sympatiques !\n",
        "\n",
        "\\\n",
        "\n",
        "**Il n'est bien sûr pas question d'apprendre par coeur les notions apprises dans ce sujet, mais de s'en servir comme un guide pour d'éventuels futurs questionnements.**\n",
        "\n",
        "\\\n",
        "\n",
        "**Merci de lire et de répondre attentivement aux questions ci-dessous. Appuyez-vous sur les ressources de la base de connaissances.**"
      ],
      "metadata": {
        "id": "hdEXFBsImr5q"
      }
    },
    {
      "cell_type": "markdown",
      "source": [
        "# Librairies utilisées"
      ],
      "metadata": {
        "id": "s_6BNQr_fGrq"
      }
    },
    {
      "cell_type": "code",
      "source": [
        "import numpy as np\n",
        "import pandas as pd\n",
        "import sympy as sp\n",
        "\n",
        "import matplotlib.pyplot as plt\n",
        "\n",
        "from sklearn.datasets import load_wine"
      ],
      "metadata": {
        "id": "2WjXfJYMi0aA"
      },
      "execution_count": null,
      "outputs": []
    },
    {
      "cell_type": "markdown",
      "source": [
        "# Algèbre linéaire\n",
        "Vous devrez exclusivement utiliser la librairie `numpy` dans la section suivante."
      ],
      "metadata": {
        "id": "tMJvSpupa59E"
      }
    },
    {
      "cell_type": "markdown",
      "source": [
        "## **Job 0**\n",
        "\n",
        "1. Créez le vecteur ligne $v = (4, 1, 9)$\n",
        "2. Additionnez, multipliez et divisez le vecteur $v$ par $2$  \n",
        "\n"
      ],
      "metadata": {
        "id": "ralGJ7YaHXLm"
      }
    },
    {
      "cell_type": "code",
      "source": [
        "import numpy as np\n",
        "\n",
        "v = np.array([4, 1, 9])\n",
        "\n",
        "add = np.add(v, 2)\n",
        "multi = np.multiply(v, 2)\n",
        "div = np.divide(v, 2)\n",
        "\n",
        "print(add)\n",
        "print(multi)\n",
        "print(div)"
      ],
      "metadata": {
        "id": "_JUmL7sQMsCV",
        "outputId": "c16b99c1-b9bf-4502-edd7-3694b86f8ee6",
        "colab": {
          "base_uri": "https://localhost:8080/"
        }
      },
      "execution_count": null,
      "outputs": [
        {
          "output_type": "stream",
          "name": "stdout",
          "text": [
            "[ 6  3 11]\n",
            "[ 8  2 18]\n",
            "[2.  0.5 4.5]\n"
          ]
        }
      ]
    },
    {
      "cell_type": "markdown",
      "source": [
        "--------------------------------------------------------------------------------\n"
      ],
      "metadata": {
        "id": "aheDJxhm1vNL"
      }
    },
    {
      "cell_type": "markdown",
      "source": [
        "## **Job 1**\n",
        "Additionnez le vecteur $v$ avec le vecteur $w$, définie comme suit $w = (-1, -1, 0)$"
      ],
      "metadata": {
        "id": "ZkcCZMIdMw5I"
      }
    },
    {
      "cell_type": "code",
      "source": [
        "import numpy as np\n",
        "\n",
        "v = np.array([4, 1, 9])\n",
        "w = np.array([-1, -1, 0])\n",
        "\n",
        "addition = np.add(v, w)\n",
        "\n",
        "print(addition)"
      ],
      "metadata": {
        "id": "Uf29sdXcM58l",
        "outputId": "5023eec8-afa1-428f-e978-4cb4f74388a7",
        "colab": {
          "base_uri": "https://localhost:8080/"
        }
      },
      "execution_count": null,
      "outputs": [
        {
          "output_type": "stream",
          "name": "stdout",
          "text": [
            "[3 0 9]\n"
          ]
        }
      ]
    },
    {
      "cell_type": "markdown",
      "source": [
        "-----------------------------------------------------------------"
      ],
      "metadata": {
        "id": "ITMFuM1BgG6H"
      }
    },
    {
      "cell_type": "markdown",
      "source": [
        "## **Job 2**\n",
        "Soient les matrices $M$ et $N$ définies comme suit :\n",
        "$$M = \\begin{pmatrix}\n",
        "1 & 2  \\\\\n",
        "5 & 6\n",
        "\\end{pmatrix},\\space N = \\begin{pmatrix}\n",
        "1 & 1 & -1  \\\\\n",
        "0 & 0 & 1\n",
        "\\end{pmatrix} $$\n",
        "\n",
        "1. Créez les matrices $M$ et $N$. Quelles sont les dimensions de chacune ? Sont-elles des matrices carrées ?\n",
        "2. Est-il possible d'additionner $M$ et $N$ ? Justifiez. Si oui, calculez l'addition.\n",
        "3. Est-il possible de faire le produit matriciel de M par N ? Justifiez. Si oui, calculez le produit.\n",
        "\n"
      ],
      "metadata": {
        "id": "yIMtWbHTNgme"
      }
    },
    {
      "cell_type": "code",
      "source": [
        "import numpy as np\n",
        "\n",
        "M = np.array([[1, 2], [5, 6]])\n",
        "N = np.array([[1, 1, -1], [0, 0, 1]])\n",
        "\n",
        "prdmatriciel = np.dot(M, N)\n",
        "\n",
        "print(prdmatriciel)"
      ],
      "metadata": {
        "id": "smbJ7DPBfQxT",
        "outputId": "15e6ce18-ace7-4afa-999a-a4cbb314232d",
        "colab": {
          "base_uri": "https://localhost:8080/"
        }
      },
      "execution_count": 1,
      "outputs": [
        {
          "output_type": "stream",
          "name": "stdout",
          "text": [
            "[[1 1 1]\n",
            " [5 5 1]]\n"
          ]
        }
      ]
    },
    {
      "cell_type": "markdown",
      "source": [
        "-----------------------------------"
      ],
      "metadata": {
        "id": "bPsxeP6rfapL"
      }
    },
    {
      "cell_type": "markdown",
      "source": [
        "## **Job 3**\n",
        "Soit la matrice suivante :\n",
        "$$A = \\begin{pmatrix}\n",
        "1 & 2 & 3 & 4 \\\\\n",
        "5 & 6 & 7 & 8 \\\\\n",
        "9 & 10 & 11 & 12 \\\\\n",
        "13 & 14 & 15 & 16\n",
        "\\end{pmatrix} $$\n",
        "\n",
        "1. Créez et affichez la matrice A\n",
        "\n",
        "2. Créez une copie $C$ de la matrice $A$\n",
        "\n",
        "3. Créez une copie superficielle $B$ de la matrice $A$, sans copier sa référence\n",
        "\n",
        "4. Affichez la valeur se trouvant à la ligne 2 et à la colonne 3\n",
        "\n",
        "5. Affichez tous les éléments de la $2^{ème}$ ligne\n",
        "\n",
        "6. Affichez tous les éléments de la $1^{ème}$ colonne\n",
        "\n",
        "7. Affichez la diagonale de $A$\n",
        "\n",
        "8. Multipliez la matrice $A$ par $\\frac{1}{2}$"
      ],
      "metadata": {
        "id": "W5Vfaozbt7_a"
      }
    },
    {
      "cell_type": "code",
      "source": [
        "from pandas.core.construction import array\n",
        "import numpy as np\n",
        "\n",
        "A = np.array([[1, 2, 3, 4], [5, 6, 7, 8], [9, 10, 11, 12], [13, 14, 15, 16]])\n",
        "B = np.array([])\n",
        "C = np.array(A)\n",
        "\n",
        "num = A[2][3]\n",
        "ligne = A[2]\n",
        "colonne = A[:,0]\n",
        "multi = np.multiply(A, 0.5)\n",
        "\n",
        "print('La valeur se trouvant à la ligne 2 et à la colonne 3 est :', num)\n",
        "print('Les éléments de la  2ème  ligne sont',ligne)\n",
        "print('Les éléments de la  1ère  colonne sont',colonne)\n",
        "print('La diagonale de A est :',A.diagonal())\n",
        "print(multi)"
      ],
      "metadata": {
        "id": "OLlKmDT1gPsr",
        "outputId": "e9004956-ca0d-4999-e3d7-457cd037bb16",
        "colab": {
          "base_uri": "https://localhost:8080/"
        }
      },
      "execution_count": null,
      "outputs": [
        {
          "output_type": "stream",
          "name": "stdout",
          "text": [
            "La valeur se trouvant à la ligne 2 et à la colonne 3 est : 12\n",
            "Les éléments de la  2ème  ligne sont [ 9 10 11 12]\n",
            "Les éléments de la  1ère  colonne sont [ 1  5  9 13]\n",
            "La diagonale de A est : [ 1  6 11 16]\n",
            "[[0.5 1.  1.5 2. ]\n",
            " [2.5 3.  3.5 4. ]\n",
            " [4.5 5.  5.5 6. ]\n",
            " [6.5 7.  7.5 8. ]]\n"
          ]
        }
      ]
    },
    {
      "cell_type": "markdown",
      "source": [
        "-------------------------------------------------------"
      ],
      "metadata": {
        "id": "egHy1WsBfUc0"
      }
    },
    {
      "cell_type": "markdown",
      "source": [
        "## **Job 4**\n",
        "Considérons les matrices $A$ et $A_{bis}$ définies comme ci-dessous :\n",
        "\n",
        "$$ A = \\begin{pmatrix}\n",
        "1 & 5 & 3  \\\\\n",
        "2 & 4 & 7\n",
        "\\end{pmatrix}, \\space A_{bis} = \\begin{pmatrix}\n",
        "1 & 2  \\\\\n",
        "5 & 4 \\\\\n",
        "3 & 7\n",
        "\\end{pmatrix}$$\n",
        "\n",
        "1. Quelles sont les dimensions de $A$ et de $A_{bis}$ ?\n",
        "2. Qu'est ce que vous voyez en observant ces deux matrices ?\n",
        "3. Quelle opération mathématique permet d'obtenir $A_{bis}$ comme résultat à partir de $A$ ?\n",
        "4. Quelle fonction Python permet de faire ce type d'opération ?\n",
        "5. A l'aide de l'opération précédente, transformez les vecteurs et les matrices ci-dessous. Affichez leurs dimensions avant et après l'opération :\n",
        "  * $\\begin{pmatrix}\n",
        "7  \\\\\n",
        "4 \\\\\n",
        "1\n",
        "\\end{pmatrix}$\n",
        "\n",
        "  * $\\begin{pmatrix}\n",
        "9 & 0 & 3 \\\\\n",
        "\\end{pmatrix}$\n",
        "\n",
        "  * $\\begin{pmatrix}\n",
        "2 & 4 & 1 \\\\\n",
        "0 & 5 & 2 \\\\\n",
        "3 & 1 & 6\n",
        "\\end{pmatrix}$\n",
        "\n",
        "  * $\\begin{pmatrix}\n",
        "  7 & 2 & 5 & 1 \\\\\n",
        "3 & 6 & 0 & 2 \\\\\n",
        "\\end{pmatrix}$\n"
      ],
      "metadata": {
        "id": "7Tv1qDFOo0ID"
      }
    },
    {
      "cell_type": "code",
      "source": [
        "import numpy as np\n",
        "\n",
        "A = np.array([7, 4, 1])\n",
        "B = np.array([9, 0, 3])\n",
        "C = np.array([[2, 0, 3], [4, 5, 1], [1, 2, 6]])\n",
        "D = np.array([[7, 2, 5, 1], [3, 6, 0, 2]])\n",
        "\n",
        "print(np.transpose(A))\n",
        "print(np.transpose(B))\n",
        "print(np.transpose(C))\n",
        "print(np.transpose(D))\n"
      ],
      "metadata": {
        "id": "o1Hj2crXfRe9",
        "colab": {
          "base_uri": "https://localhost:8080/"
        },
        "outputId": "c7b693c3-eb0b-41b7-9f69-4cf4187c1ce9"
      },
      "execution_count": 9,
      "outputs": [
        {
          "output_type": "stream",
          "name": "stdout",
          "text": [
            "[7 4 1]\n",
            "[9 0 3]\n",
            "[[2 4 1]\n",
            " [0 5 2]\n",
            " [3 1 6]]\n",
            "[[7 3]\n",
            " [2 6]\n",
            " [5 0]\n",
            " [1 2]]\n"
          ]
        }
      ]
    },
    {
      "cell_type": "markdown",
      "source": [
        "------------------------------------------"
      ],
      "metadata": {
        "id": "DNws-5WUo2Ab"
      }
    },
    {
      "cell_type": "markdown",
      "source": [
        "## **Job 5**\n",
        "On considère la matrice $A$ de dimension 3 $\\times 4$ définie comme :\n",
        "\n",
        "$$ A = \\begin{pmatrix}\n",
        "4 & 6 & -2 & 3 \\\\\n",
        "2 & -1 & 0 & 1 \\\\\n",
        "-7 & 0 & 1 & 12\n",
        "\\end{pmatrix} $$\n",
        "\n",
        "1. Créez la matrice $A$.\n",
        "\n",
        "2. Modifiez la matrice $A$ pour que ses deux premières lignes soient multipliées par 2 et que sa dernière colonne soit divisée par 3.\n",
        "\n",
        "3. Créez une nouvelle matrice $B$ définie comme :\n",
        "\n",
        "$$ B = \\begin{pmatrix}\n",
        "4 & 5 & 6 \\\\\n",
        "5 & 10 & 15 \\\\\n",
        "1 & 1 & 1\n",
        "\\end{pmatrix}  $$\n",
        "\n",
        "4. Réalisez le produit matriciel de $B$ et $A$, notez le $D$."
      ],
      "metadata": {
        "id": "Il-yWHePVIqI"
      }
    },
    {
      "cell_type": "code",
      "source": [
        "import numpy as np\n",
        "\n",
        "A = np.array([[4, 6, -2, 3], [2, -1, 0, 1], [-7, 0, 1, 12]])\n",
        "Abis = np.array([[8, 12, -4, 6], [4, -2, 0, 2], [-7, 0, 0.33, 4]])\n",
        "B = np.array([[4, 5, 6], [5, 10, 15], [1, 1, 1]])\n",
        "\n",
        "D = B @ A\n",
        "\n",
        "print(D)"
      ],
      "metadata": {
        "id": "u7qHn_eXj4QD"
      },
      "execution_count": 26,
      "outputs": []
    },
    {
      "cell_type": "markdown",
      "source": [
        "---------------------------------------------------------"
      ],
      "metadata": {
        "id": "pUe2Q9LJg8-e"
      }
    },
    {
      "cell_type": "markdown",
      "source": [
        "## **Job 6**\n",
        "\n",
        "Soit la matrice $I_3$ définie comme suit :\n",
        "$$ \\begin{pmatrix}\n",
        "1 & 0 & 0 \\\\\n",
        "0 & 1 & 0 \\\\\n",
        "0 & 0 & 1\n",
        "\\end{pmatrix}$$\n",
        "\n",
        "1. Faites une multiplication matricielle de $I_3$ et d'une autre matrice de même taille de votre choix. Qu'est ce que vous observez ?\n",
        "2. Renseignez-vous sur la matrice $I_3$. Quelles sont ses caractéristiques ?"
      ],
      "metadata": {
        "id": "fy9H6rsutmov"
      }
    },
    {
      "cell_type": "code",
      "source": [
        "import numpy as np\n",
        "\n",
        "I3 = np.array([[1, 0, 0], [0, 1, 0], [0, 0, 1]])\n",
        "J4 = np.array([[6, 6, 7], [5, 1, 0], [1, 2, 1]])\n",
        "\n",
        "K5 = I3 @ J4\n",
        "\n",
        "print(K5)"
      ],
      "metadata": {
        "id": "SIVfVrphw6mD",
        "colab": {
          "base_uri": "https://localhost:8080/"
        },
        "outputId": "4fcc5afd-50f5-44c0-b648-e51baaebac97"
      },
      "execution_count": 28,
      "outputs": [
        {
          "output_type": "stream",
          "name": "stdout",
          "text": [
            "[[6 6 7]\n",
            " [5 1 0]\n",
            " [1 2 1]]\n"
          ]
        }
      ]
    },
    {
      "cell_type": "markdown",
      "source": [
        "--------------------------------------------------------------"
      ],
      "metadata": {
        "id": "D1RXE9cXx3LD"
      }
    },
    {
      "cell_type": "markdown",
      "source": [
        "## **Job 7**\n",
        "\n",
        "Pour un nombre réel $x$, son inverse, noté $\\frac{1}{x}$ ou $x^{-1}$, est un autre nombre tel que $x \\times \\frac{1}{x} = 1$\n",
        "\n",
        " En d'autres termes, lorsque vous multipliez un nombre par son inverse, le résultat est toujours $1$.\n",
        "\n",
        " Démontrez le dans la cellule ci-dessous pour des nombres de votre choix."
      ],
      "metadata": {
        "id": "2AB67_wztCQT"
      }
    },
    {
      "cell_type": "code",
      "source": [
        "\n",
        "x1 = 2\n",
        "x2 = 3.5\n",
        "\n",
        "# Calcul les inverses\n",
        "inverse_x1 = 1 / x1\n",
        "inverse_x2 = 1 / x2\n",
        "\n",
        "# Vérifie si le resultat est toujour 1\n",
        "result_x1 = x1 * inverse_x1\n",
        "result_x2 = x2 * inverse_x2\n",
        "\n",
        "# Affiche les résultats\n",
        "print(f\"Pour x = {x1}: {x1} * (1/{x1}) = {result_x1}\")\n",
        "print(f\"Pour x = {x2}: {x2} * (1/{x2}) = {result_x2}\")\n"
      ],
      "metadata": {
        "id": "AOV7zzmzx4_o",
        "colab": {
          "base_uri": "https://localhost:8080/"
        },
        "outputId": "56dde277-e1eb-4a69-f180-ea0bfb52473d"
      },
      "execution_count": 34,
      "outputs": [
        {
          "output_type": "stream",
          "name": "stdout",
          "text": [
            "Pour x = 2: 2 * (1/2) = 1.0\n",
            "Pour x = 3.5: 3.5 * (1/3.5) = 1.0\n"
          ]
        }
      ]
    },
    {
      "cell_type": "markdown",
      "source": [
        "-----------------------------------------------------------------"
      ],
      "metadata": {
        "id": "u-S8sAZPx5Lz"
      }
    },
    {
      "cell_type": "markdown",
      "source": [
        "## **Job 8**\n",
        "\n",
        "L'inverse d'une matrice est une autre matrice qui, lorsqu'elle est multipliée par la matrice d'origine, donne une matrice identité. En d'autres termes, si $A$ est une matrice et $A^{-1}$ est son inverse, alors $A \\times A^{-1} = I$.\n",
        "\n",
        "*(C'est comme si l'inverse de la matrice \"compensait\" les effets de la matrice d'origine, de la même manière que l'inverse d'un nombre \"compense\" sa multiplication initiale pour obtenir $1$.)*\n",
        "\n",
        "Soient deux matrices $A$ et $B$ telles que :\n",
        "\n",
        "$$ A = \\begin{pmatrix}\n",
        "1 & 2 \\\\\n",
        "3 & 4\n",
        "\\end{pmatrix}, \\space B = \\begin{pmatrix}\n",
        "-2 & 1 \\\\\n",
        "1.5 & -0.5\n",
        "\\end{pmatrix}$$\n",
        "\n",
        "1. Calculez $A \\times B$ puis $B \\times A$.\n",
        "2. Que pouvez-vous conclure sur les deux matrices ?"
      ],
      "metadata": {
        "id": "RgYKdF1J6fXn"
      }
    },
    {
      "cell_type": "code",
      "source": [
        "import numpy as np\n",
        "\n",
        "A = np.array([[1, 2], [3, 4]])\n",
        "B = np.array([[-2, 1], [1.5, -0.5]])\n",
        "\n",
        "AB = A @ B\n",
        "BA = B @ A\n",
        "\n",
        "print(AB)\n",
        "print(BA)\n"
      ],
      "metadata": {
        "id": "DYkYvgfr6iBH",
        "colab": {
          "base_uri": "https://localhost:8080/"
        },
        "outputId": "3fa31b13-40d9-42a5-dd0e-1e3bcdf8e879"
      },
      "execution_count": 40,
      "outputs": [
        {
          "output_type": "stream",
          "name": "stdout",
          "text": [
            "[[1. 0.]\n",
            " [0. 1.]]\n",
            "[[1. 0.]\n",
            " [0. 1.]]\n"
          ]
        }
      ]
    },
    {
      "cell_type": "markdown",
      "source": [
        "----------------------------------------------------------------------"
      ],
      "metadata": {
        "id": "rLtfdXh76iTd"
      }
    },
    {
      "cell_type": "markdown",
      "source": [
        "## **Job 9**\n",
        "\n",
        "On dit qu'une matrice carrée $M$ est inversible (ou possède un inverse $M^{-1}$) si son déterminant $det(M)\\neq 0$.\n",
        "\n",
        "**Par exemple :**\n",
        "\n",
        "$$ M = \\begin{pmatrix}\n",
        "a & b \\\\\n",
        "c & d\n",
        "\\end{pmatrix}, \\space det(M) = (a \\times d) - (c \\times b) \\neq 0$$\n",
        "\n",
        "On définit alors $M^{-1}$ comme suit :\n",
        "\n",
        "$$ M^{-1} = \\frac{1}{det(M)} \\times \\begin{pmatrix}\n",
        "d & -b \\\\\n",
        "-c & a\n",
        "\\end{pmatrix} $$\n",
        "\n",
        "\\\n",
        "\n",
        "1. Vérifiez si les matrices carrées ci-dessous sont inversibles (il existe une fonction de numpy qui le fait très bien...) :\n",
        "\n",
        "  * $ \\begin{pmatrix}\n",
        "5 & 6 \\\\\n",
        "7 & 8\n",
        "\\end{pmatrix}$\n",
        "\n",
        "  * $ \\begin{pmatrix}\n",
        "3 & 2 \\\\\n",
        "4 & 1\n",
        "\\end{pmatrix}$\n",
        "\n",
        "  * $ \\begin{pmatrix}\n",
        "1 & 5 \\\\\n",
        "7 & 8 \\\\\n",
        "0 & 1\n",
        "\\end{pmatrix}$\n",
        "\n",
        "  * $ \\begin{pmatrix}\n",
        "1 & 2 & 3 \\\\\n",
        "0 & -1 & 4 \\\\\n",
        "2 & 1 & 5\n",
        "\\end{pmatrix}$\n",
        "\n",
        "\n",
        "2. Calculez l'inverse de ces matrices à l'aide de la formule donnée précédemment."
      ],
      "metadata": {
        "id": "rfRPzGs-3MG2"
      }
    },
    {
      "cell_type": "code",
      "source": [
        "import numpy as np\n",
        "from numpy.linalg import inv\n",
        "\n",
        "a = np.array([[5, 6], [7, 8]])\n",
        "b = np.array([[3, 2], [4, 1]])\n",
        "C = np.array([[1, 5], [7, 8], [0, 1]])\n",
        "d = np.array([[1, 2, 3], [0, -1, 4], [2, 1, 5]])\n",
        "\n",
        "ainv_a = inv(a)\n",
        "ainv_b = inv(b)\n",
        "\n",
        "result_a = np.allclose(np.dot(a, ainv_a), np.eye(2))\n",
        "result_b = np.allclose(np.dot(b, ainv_b), np.eye(2))\n",
        "\n",
        "print('La matrice a est elle inversible : ', result_a)\n",
        "print('La matrice b est elle inversible : ', result_b)"
      ],
      "metadata": {
        "id": "EqS8e-z13Lf9",
        "colab": {
          "base_uri": "https://localhost:8080/"
        },
        "outputId": "454b4c47-1fc3-4d98-c2a3-c1039cc395ff"
      },
      "execution_count": 53,
      "outputs": [
        {
          "output_type": "stream",
          "name": "stdout",
          "text": [
            "La matrice a est elle inversible :  True\n",
            "La matrice b est elle inversible :  True\n"
          ]
        }
      ]
    },
    {
      "cell_type": "markdown",
      "source": [
        "-----------------------------------------------------------------"
      ],
      "metadata": {
        "id": "Gx-D1gOvx9q7"
      }
    },
    {
      "cell_type": "markdown",
      "source": [
        "# Probabilités et Statistique"
      ],
      "metadata": {
        "id": "CQtesnAQhBWC"
      }
    },
    {
      "cell_type": "markdown",
      "source": [
        "## **Job 10**\n",
        "**La probabilité d'un événement est un nombre réel compris entre 0 et 1. Plus ce nombre est grand, plus le risque, ou la chance, que l'événement se produise est grand.**\n",
        "\n",
        "Lancez une pièce de monnaie 100 fois et enregistrez le résultat, pile ou face, dans un `array` $T$.\n",
        "1. Quelle est donc la probabilité d'obtenir le résultat Pile ou le résultat Face ?\n",
        "3. Visualisez la proportion des résultats à l'aide d'un piechart de `Matplotlib` (ou d'une autre librairie de votre choix).\n"
      ],
      "metadata": {
        "id": "ln_exBJbqReD"
      }
    },
    {
      "cell_type": "code",
      "source": [
        "import numpy as np\n",
        "import matplotlib.pyplot as plt\n",
        "\n",
        "T = np.random.choice(['Pile', 'Face'], size=100)\n",
        "\n",
        "prob_pile = np.sum(T == 'Pile') / len(T)\n",
        "prob_face = np.sum(T == 'Face') / len(T)\n",
        "\n",
        "print(\"Probabilité d'obtenir Pile : {:.2%}\".format(prob_pile))\n",
        "print(\"Probabilité d'obtenir Face : {:.2%}\".format(prob_face))\n",
        "\n",
        "\n",
        "labels = ['Pile', 'Face']\n",
        "sizes = [prob_pile, prob_face]\n",
        "colors = ['gold', 'lightskyblue']\n",
        "\n",
        "plt.pie(sizes, labels=labels, colors=colors, autopct='%1.1f%%', startangle=140)\n",
        "plt.axis('equal')\n",
        "plt.title(\"Proportion des résultats (100 lancers de pièce)\")\n",
        "plt.show()\n"
      ],
      "metadata": {
        "id": "iOPwW6xwrI-v",
        "colab": {
          "base_uri": "https://localhost:8080/",
          "height": 465
        },
        "outputId": "b7b4b02a-8613-4fdb-bc4f-22a874b89083"
      },
      "execution_count": 62,
      "outputs": [
        {
          "output_type": "stream",
          "name": "stdout",
          "text": [
            "Probabilité d'obtenir Pile : 51.00%\n",
            "Probabilité d'obtenir Face : 49.00%\n"
          ]
        },
        {
          "output_type": "display_data",
          "data": {
            "text/plain": [
              "<Figure size 640x480 with 1 Axes>"
            ],
            "image/png": "[encoded data removed]"
          },
          "metadata": {}
        }
      ]
    },
    {
      "cell_type": "markdown",
      "source": [
        "## **Job 11**\n",
        "\n",
        "Considérez un dé $D_6$ dont les valeurs possibles sont : $\\{1, 2, 3, 4, 5, 6\\}$.\n",
        "\n",
        "Ce dé est non truqué, ce qui signifie que toutes les valeurs ont des probabilités égales de se produire.  \n",
        "\n",
        "Si je jette le dé $D_6$, la probabilité que le résultat soit $3$ est de $\\frac{1}{6}$.\n",
        "\n",
        "1. Quelle est la probabilité d'obtenir $7$ au jet du dé $D_6$ ?\n",
        "2. Quelle est la probabilité d'obtenir un résultat pair ?\n",
        "3. Quelle est la probabilité d'obtenir un résultat impair ?\n",
        "4. Quelle est la probabilité d'obtenir un résultat inférieur ou égal à $4$ ?\n",
        "5. Quelle est la probabilité d'obtenir un résultat inférieur ou égal à $6$ ?\n",
        "6. Quelle est la probabilité de ne pas obtenir $1$ ?"
      ],
      "metadata": {
        "id": "MxiFruoxmYug"
      }
    },
    {
      "cell_type": "code",
      "source": [],
      "metadata": {
        "id": "0spL-gIzC68K"
      },
      "execution_count": null,
      "outputs": []
    },
    {
      "cell_type": "code",
      "source": [],
      "metadata": {
        "id": "Nbpx1FibWrBs"
      },
      "execution_count": null,
      "outputs": []
    },
    {
      "cell_type": "markdown",
      "source": [
        "-------------------------------------------------------------"
      ],
      "metadata": {
        "id": "WSdMr0IBWthA"
      }
    },
    {
      "cell_type": "markdown",
      "source": [
        "## **Job 12**\n",
        "A l'aide de `numpy` et de ses différentes fonctions :\n",
        "* Créez un vecteur ligne $R$ de taille $n=450$ composé de nombres naturels entre $0$ et $9$ générés aléatoirement\n",
        "* Calculez la valeur moyenne du tableau\n",
        "* Calculez la valeur médiane\n",
        "* Calculez la variance\n",
        "* Calculez l'écart-type"
      ],
      "metadata": {
        "id": "uttOswY_g-gC"
      }
    },
    {
      "cell_type": "code",
      "source": [
        "import numpy as np\n",
        "\n",
        "n = 450\n",
        "R = np.random.randint(0, 10, size=n)\n",
        "\n",
        "moyenne = np.mean(R)\n",
        "median = np.median(R)\n",
        "variance = np.var(R)\n",
        "ecart_type = np.std(R)\n",
        "\n",
        "print(\"Vecteur R :\", R)\n",
        "print(\"Moyenne :\", moyenne)\n",
        "print(\"Médiane :\", median)\n",
        "print(\"Variance :\", variance)\n",
        "print(\"Écart-type :\", ecart_type)"
      ],
      "metadata": {
        "id": "q4WwtEoHj5ZV",
        "colab": {
          "base_uri": "https://localhost:8080/"
        },
        "outputId": "93604a09-e8fa-4002-a36a-a79995583fa2"
      },
      "execution_count": 84,
      "outputs": [
        {
          "output_type": "stream",
          "name": "stdout",
          "text": [
            "Vecteur R : [0 6 9 6 7 1 4 2 4 8 5 0 1 8 5 3 0 9 9 9 1 6 2 0 6 4 3 3 4 7 9 7 0 0 2 0 3\n",
            " 2 7 8 6 4 5 8 7 7 4 8 2 6 8 7 1 1 0 1 8 4 2 4 6 0 5 6 2 7 7 7 2 4 4 1 1 3\n",
            " 6 5 6 6 2 4 4 1 5 1 7 8 9 7 9 7 3 0 8 9 7 9 8 6 0 7 7 5 8 5 9 7 9 2 7 3 0\n",
            " 3 7 7 6 0 5 9 5 8 0 2 6 4 5 6 0 6 9 8 8 2 6 0 2 5 1 9 3 8 3 7 7 4 5 0 6 8\n",
            " 8 3 8 9 9 9 5 2 7 7 4 8 4 7 7 8 8 7 5 1 0 6 7 4 6 1 5 5 7 4 6 9 9 9 0 4 5\n",
            " 0 3 5 0 5 2 7 7 1 6 1 7 7 0 6 9 7 3 1 8 5 5 5 4 1 7 2 0 5 9 6 3 6 8 2 0 8\n",
            " 7 9 5 5 0 7 1 0 5 6 6 6 2 6 2 3 1 6 2 2 0 2 7 0 0 8 3 0 0 9 7 0 5 5 9 9 3\n",
            " 5 8 5 9 8 7 5 9 7 4 7 6 3 2 3 7 0 8 4 7 7 6 1 3 9 7 5 6 3 3 1 0 9 1 0 4 0\n",
            " 4 8 6 0 9 5 5 1 0 0 8 7 6 7 3 3 2 9 3 9 9 3 3 7 7 9 8 6 3 0 4 4 7 0 7 2 6\n",
            " 2 9 1 1 3 0 7 4 2 5 4 2 8 9 6 6 3 3 0 0 0 7 6 5 2 5 8 5 0 0 8 0 5 2 8 5 4\n",
            " 1 5 8 2 5 0 1 2 7 1 6 2 5 5 5 0 7 0 7 3 8 8 9 2 0 1 7 2 7 0 0 5 5 9 8 1 7\n",
            " 1 6 8 5 5 4 3 4 7 9 6 6 9 7 7 3 2 3 0 5 4 9 7 2 5 1 7 0 0 5 5 5 6 6 1 2 6\n",
            " 0 6 0 2 2 1]\n",
            "Moyenne : 4.584444444444444\n",
            "Médiane : 5.0\n",
            "Variance : 8.47398024691358\n",
            "Écart-type : 2.9110101763672316\n"
          ]
        }
      ]
    },
    {
      "cell_type": "markdown",
      "source": [
        "----------------------------------------------"
      ],
      "metadata": {
        "id": "Aw0gaIdZazFa"
      }
    },
    {
      "cell_type": "markdown",
      "source": [
        "## **Job 13**\n",
        "A l'aide de matplotlib (ou d'une autre librairie de votre choix), visualisez la distribution des données du tableau $R$ en générant un histogramme."
      ],
      "metadata": {
        "id": "KqxEDbkKkP4t"
      }
    },
    {
      "cell_type": "code",
      "source": [
        "import numpy as np\n",
        "import matplotlib.pyplot as plt\n",
        "\n",
        "n = 450\n",
        "R = np.random.randint(0, 10, size=n)\n",
        "\n",
        "\n",
        "plt.hist(R, bins=range(11), edgecolor='black')\n",
        "plt.title('Distribution des données du vecteur R')\n",
        "plt.xlabel('Valeurs')\n",
        "plt.ylabel('Fréquence')\n",
        "plt.grid(axis='y', alpha=0.75)\n",
        "plt.show()"
      ],
      "metadata": {
        "id": "8sWEFtOskmmg",
        "colab": {
          "base_uri": "https://localhost:8080/",
          "height": 472
        },
        "outputId": "75d60867-5815-4202-f63a-bfeff4395a8b"
      },
      "execution_count": 83,
      "outputs": [
        {
          "output_type": "display_data",
          "data": {
            "text/plain": [
              "<Figure size 640x480 with 1 Axes>"
            ],
            "image/png": "[encoded data removed]"
          },
          "metadata": {}
        }
      ]
    },
    {
      "cell_type": "markdown",
      "source": [
        "---------------------------------------------------------"
      ],
      "metadata": {
        "id": "BoIJ71z2a0aY"
      }
    },
    {
      "cell_type": "markdown",
      "source": [
        "## **Job 14**\n",
        "A l'aide de matplotlib (ou d'une autre librairie de votre choix), visualisez la distribution et dispersion des données du tableau $R$ à travers leurs **quartiles** en utilisant l'outil statistique, le boxplot."
      ],
      "metadata": {
        "id": "QXOHm1PqknPj"
      }
    },
    {
      "cell_type": "code",
      "source": [
        "import numpy as np\n",
        "import matplotlib.pyplot as plt\n",
        "\n",
        "n = 450\n",
        "R = np.random.randint(0, 10, size=n)\n",
        "\n",
        "\n",
        "plt.boxplot(R, vert=False)\n",
        "plt.title('Boxplot du vecteur R')\n",
        "plt.xlabel('Valeurs')\n",
        "plt.show()"
      ],
      "metadata": {
        "id": "olFRkPQHkxwV",
        "colab": {
          "base_uri": "https://localhost:8080/",
          "height": 472
        },
        "outputId": "ecf2b5dc-0d86-4c89-d1b2-74ce5c576513"
      },
      "execution_count": 82,
      "outputs": [
        {
          "output_type": "display_data",
          "data": {
            "text/plain": [
              "<Figure size 640x480 with 1 Axes>"
            ],
            "image/png": "[encoded data removed]"
          },
          "metadata": {}
        }
      ]
    },
    {
      "cell_type": "markdown",
      "source": [
        "-----------------------------------------------------"
      ],
      "metadata": {
        "id": "tHtFR_Mha177"
      }
    },
    {
      "cell_type": "markdown",
      "source": [
        "## **Job 15**\n",
        "\n",
        "Considérons des données de résultats d'une analyse chimique de vins cultivés en Italie issus de trois cultivars différents. Ces données ont été récupérées et chargées dans un `DataFrame` via la code ci-dessous.\n",
        "\n",
        "1. Affichez différentes informations de `wine_df` (nombre d'observations, nombre de caractéristiques, type de données, données manquantes, mémoire allouée en RAM).\n",
        "\n",
        "2. A l'aide d'une fonction spécifique de `Pandas`, générez les statistiques descriptives (moyenne, médiane, maximum, ...) du jeu de données. Qu'est ce que vous observez ?\n",
        "\n",
        "3. Visualisez la distribution des différentes variables du jeu de données à l'aide d'un histogramme et d'un boxplot.\n",
        "\n",
        "4. A l'aide d'une fonction spécifique de `Pandas`, calculez la corrélation linéaire de Pearson par paire des variables.\n"
      ],
      "metadata": {
        "id": "7FRhuAFaa3Yy"
      }
    },
    {
      "cell_type": "code",
      "source": [
        "wine_data = load_wine()\n",
        "\n",
        "wine_df = pd.DataFrame(data=wine_data.data, columns=wine_data.feature_names)\n",
        "wine_df.head()"
      ],
      "metadata": {
        "colab": {
          "base_uri": "https://localhost:8080/",
          "height": 235
        },
        "id": "tlFNsLZ5a7fr",
        "outputId": "51b97e9f-26fa-4bb2-d914-2da405637694"
      },
      "execution_count": 77,
      "outputs": [
        {
          "output_type": "error",
          "ename": "NameError",
          "evalue": "ignored",
          "traceback": [
            "\u001b[0;31m---------------------------------------------------------------------------\u001b[0m",
            "\u001b[0;31mNameError\u001b[0m                                 Traceback (most recent call last)",
            "\u001b[0;32m<ipython-input-77-11ec1b12a434>\u001b[0m in \u001b[0;36m<cell line: 1>\u001b[0;34m()\u001b[0m\n\u001b[0;32m----> 1\u001b[0;31m \u001b[0mwine_data\u001b[0m \u001b[0;34m=\u001b[0m \u001b[0mload_wine\u001b[0m\u001b[0;34m(\u001b[0m\u001b[0;34m)\u001b[0m\u001b[0;34m\u001b[0m\u001b[0;34m\u001b[0m\u001b[0m\n\u001b[0m\u001b[1;32m      2\u001b[0m \u001b[0;34m\u001b[0m\u001b[0m\n\u001b[1;32m      3\u001b[0m \u001b[0mwine_df\u001b[0m \u001b[0;34m=\u001b[0m \u001b[0mpd\u001b[0m\u001b[0;34m.\u001b[0m\u001b[0mDataFrame\u001b[0m\u001b[0;34m(\u001b[0m\u001b[0mdata\u001b[0m\u001b[0;34m=\u001b[0m\u001b[0mwine_data\u001b[0m\u001b[0;34m.\u001b[0m\u001b[0mdata\u001b[0m\u001b[0;34m,\u001b[0m \u001b[0mcolumns\u001b[0m\u001b[0;34m=\u001b[0m\u001b[0mwine_data\u001b[0m\u001b[0;34m.\u001b[0m\u001b[0mfeature_names\u001b[0m\u001b[0;34m)\u001b[0m\u001b[0;34m\u001b[0m\u001b[0;34m\u001b[0m\u001b[0m\n\u001b[1;32m      4\u001b[0m \u001b[0mwine_df\u001b[0m\u001b[0;34m.\u001b[0m\u001b[0mhead\u001b[0m\u001b[0;34m(\u001b[0m\u001b[0;34m)\u001b[0m\u001b[0;34m\u001b[0m\u001b[0;34m\u001b[0m\u001b[0m\n",
            "\u001b[0;31mNameError\u001b[0m: name 'load_wine' is not defined"
          ]
        }
      ]
    },
    {
      "cell_type": "markdown",
      "source": [
        "-------------------------------------------"
      ],
      "metadata": {
        "id": "zC2cPCxmyBpR"
      }
    },
    {
      "cell_type": "markdown",
      "source": [
        "## Job 16\n",
        "Une loi de probabilité décrit le comportement aléatoire d'un phénomène dépendant du hasard tels que les lancers de pièces, les dés, les jeux de cartes, et d'autres événements plus complexes.\n",
        "\n",
        "Considérons la Loi Normale, l'unes des plus importantes en probabilités et en statistique. Les lois normales sont parmi les lois de probabilité les plus utilisées pour modéliser des phénomènes naturels issus de plusieurs événements aléatoires. Elle est caractérisée par sa forme en cloche symétrique.\n",
        "\n",
        "**Simulez la Loi Normale $\\mathcal{N}(0, 1)$ où la moyenne est $0$ et l'écart-type est $1$ :**\n",
        "1. Générez des échantillons à partir de la distribution normale en utilisant la fonction `np.random.normal`\n",
        "\n",
        "2. Affichez l'histogramme des données\n",
        "\n",
        "3. Tracez la courbe de densité de probabilité théorique de $\\mathcal{N}(0, 1)$ en traçant la fonction $f(x)$ ci-dessous :\n",
        "\n",
        "$$ f(x) = \\frac{1}{1 \\sqrt{2\\pi}} \\times e^{-\\frac{1}{2} \\times x^2 }$$"
      ],
      "metadata": {
        "id": "uIGpt7c1yE8Z"
      }
    },
    {
      "cell_type": "code",
      "source": [
        "import numpy as np\n",
        "import matplotlib.pyplot as plt\n",
        "from scipy.stats import norm\n",
        "\n",
        "data = np.random.normal(0, 1, 1000)\n",
        "\n",
        "plt.hist(data, bins=30, density=True, alpha=0.7, color='blue', edgecolor='black')\n",
        "\n",
        "xmin, xmax = plt.xlim()\n",
        "x = np.linspace(xmin, xmax, 100)\n",
        "p = norm.pdf(x, 0, 1)\n",
        "plt.plot(x, p, 'k', linewidth=2)\n",
        "\n",
        "\n",
        "plt.title('Simulation de la Loi Normale N(0,1)')\n",
        "plt.xlabel('Valeurs')\n",
        "plt.ylabel('Fréquence relative')\n",
        "plt.legend(['Densité théorique', 'Échantillon'])\n",
        "plt.show()"
      ],
      "metadata": {
        "id": "YL8L6xcCzoDQ",
        "colab": {
          "base_uri": "https://localhost:8080/",
          "height": 472
        },
        "outputId": "b91aaba2-3c29-492a-fe95-1465678aedf4"
      },
      "execution_count": 87,
      "outputs": [
        {
          "output_type": "display_data",
          "data": {
            "text/plain": [
              "<Figure size 640x480 with 1 Axes>"
            ],
            "image/png": "[encoded data removed]"
          },
          "metadata": {}
        }
      ]
    },
    {
      "cell_type": "markdown",
      "source": [
        "----------------------------------"
      ],
      "metadata": {
        "id": "MzR1Pu8BwXih"
      }
    },
    {
      "cell_type": "markdown",
      "source": [
        "# Calcul de dérivée"
      ],
      "metadata": {
        "id": "HM9Q73J0U9WB"
      }
    },
    {
      "cell_type": "markdown",
      "source": [
        "## Job 17\n",
        "\n",
        "En mathématiques, la dérivée d'une fonction d'une variable réelle mesure l'ampleur du changement de la valeur de la fonction (valeur de sortie) par rapport à un petit changement de son argument (valeur d'entrée). Les calculs de dérivées sont un outil fondamental du calcul infinitésimal. Par exemple, la dérivée de la position d'un objet en mouvement par rapport au temps est la vitesse (instantanée) de l'objet.\n",
        "\n",
        "\\\n",
        "\n",
        "Calculez la dérivée des fonctions suivantes à l'aide la librairie `SymPy` :\n",
        "\n",
        "1. $f(x) = 3x^2 - 2x + 5$\n",
        "\n",
        "2. $g(x) = \\frac{2}{x^2}$\n",
        "\n",
        "3. $h(x) = \\sqrt{3x - 1}$\n",
        "\n",
        "4. $k(x) = e^{x}$\n",
        "\n",
        "5. $l(x) = ln(x)$\n",
        "\n",
        "6. $p(x) = \\sqrt{x} + 2x^3$\n",
        "\n",
        "7. $q(x) = sin(x)$\n",
        "\n",
        "8. $r(x) = \\frac{x^2 + 1}{x-1}$"
      ],
      "metadata": {
        "id": "EzuMXD8pP5CX"
      }
    },
    {
      "cell_type": "code",
      "source": [],
      "metadata": {
        "id": "v1S2lF7iUbGd"
      },
      "execution_count": null,
      "outputs": []
    },
    {
      "cell_type": "markdown",
      "source": [
        "----------------------------------------------------------------------"
      ],
      "metadata": {
        "id": "lCCEJlbCYbOG"
      }
    },
    {
      "cell_type": "markdown",
      "source": [
        "# Toujours plus loin..."
      ],
      "metadata": {
        "id": "MF70NYVuJNty"
      }
    },
    {
      "cell_type": "markdown",
      "source": [
        "## **Job Bonus 1**\n",
        "A l'aide de ce que vous avez appris dans le *job 16*, réalisez une simulation du **Théorème Central Limit**.\n",
        "\n",
        "*Pour des raisons d'organisation et de lisibilité de votre notebook, créez votre implémentation dans des fichiers .py que vous viendrez appeler à l'aide de la cellule ci-dessous :*"
      ],
      "metadata": {
        "id": "uA0coLJoPxyx"
      }
    },
    {
      "cell_type": "code",
      "source": [],
      "metadata": {
        "id": "RVbjzQVXP1kL"
      },
      "execution_count": null,
      "outputs": []
    },
    {
      "cell_type": "markdown",
      "source": [
        "----------------------------------------------------------------------"
      ],
      "metadata": {
        "id": "iUoIMe-JYdrP"
      }
    },
    {
      "cell_type": "markdown",
      "source": [
        "## **Job Bonus 2**\n",
        "\n",
        "**Un algorithme de tri, notion fondamentale en informatique ou en mathématiques, est un algorithme qui permet d'organiser une collection d'objets selon une relation d'ordre déterminée. Suivant la relation d'ordre considérée, une même collection d’objet peut donner lieu à divers arrangements.**\n",
        "\n",
        "Par exemple, on pourrait trier un tableau `tab` d'entiers naturels de $1$ à $N$ dans un ordre croissant ou décroissant.\n",
        "\n",
        "L'implémentation des algorithmes de tri est un excellent exercice pour comprendre des concepts fondamentaux de la programmation, comprendre d'autres algorithmes et se préparer à des entretiens techniques.\n",
        "\n",
        "Tentez d'implémenter un ou plusieurs des algorithmes de tri suivants :\n",
        "\n",
        "* **Tri à bulles (bubble sort)**\n",
        "* **Tri par insertion (Insertion sort)**\n",
        "* **Tri fusion (merge sort)**\n",
        "* **Tri rapide (quick sort)**\n",
        "\n",
        "\n",
        "\n",
        "*Pour des raisons d'organisation et lisibilité de votre notebook, créez vos différentes implémentations des algorithmes de tri dans des fichiers .py que vous viendrez appeler à l'aide de la cellule ci-dessous :*"
      ],
      "metadata": {
        "id": "JIQ8RlMGwZyt"
      }
    },
    {
      "cell_type": "code",
      "source": [
        "# Example of a list to be sorted - feel free to try something else!\n",
        "\n",
        "input_list = [64, 34, 25, 12, 22, 11, 90]\n",
        "\n",
        "print(\"This is my original list:\", input_list)\n",
        "\n",
        "# Tri de la list à l'aide d'un algorithme donné - ?\n",
        "sorted_list = some_sorting_alg(input_list)\n",
        "\n",
        "print(\"This is my sorted list:\", sorted_list)"
      ],
      "metadata": {
        "id": "q3BmeEQSxM0g"
      },
      "execution_count": null,
      "outputs": []
    }
  ]
}